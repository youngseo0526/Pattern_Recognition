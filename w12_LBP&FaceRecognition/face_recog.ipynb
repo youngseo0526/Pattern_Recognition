{
 "cells": [
  {
   "cell_type": "markdown",
   "metadata": {},
   "source": [
    "# 모듈 import 및 이미지 불러오기"
   ]
  },
  {
   "cell_type": "code",
   "execution_count": 1,
   "metadata": {},
   "outputs": [],
   "source": [
    "\"\"\"\n",
    "pip install cmake  # 크로스 플랫폼 빌드 툴 (face_recognition 설치를 위해 필요)\n",
    "pip install face_recognition  # 얼굴 인식 기능 관련 라이브러리\n",
    "\"\"\"\n",
    "import face_recognition\n",
    "import cv2\n",
    "import numpy as np"
   ]
  },
  {
   "cell_type": "code",
   "execution_count": 2,
   "metadata": {},
   "outputs": [],
   "source": [
    "img = face_recognition.load_image_file('candidates.jpg') #face_recognition함수는 RGB, opencv는 BGR\n",
    "bgr = cv2.cvtColor(img, cv2.COLOR_RGB2BGR) #RGB로읽지만 opencv는 BGR이라서 변환\n",
    "cv2.imshow('img', bgr)\n",
    "cv2.waitKey()\n",
    "\n",
    "cv2.destroyAllWindows()"
   ]
  },
  {
   "cell_type": "markdown",
   "metadata": {},
   "source": [
    "# 기능 1) 얼굴 위치 찾기"
   ]
  },
  {
   "cell_type": "code",
   "execution_count": 3,
   "metadata": {},
   "outputs": [
    {
     "name": "stdout",
     "output_type": "stream",
     "text": [
      "[(82, 296, 211, 167), (81, 597, 236, 442)]\n"
     ]
    }
   ],
   "source": [
    "face_locations = face_recognition.face_locations(img)\n",
    "print(face_locations)  # (ys, xs, ye, xe) #y시작 x시작 y끝 x끝"
   ]
  },
  {
   "cell_type": "code",
   "execution_count": 14,
   "metadata": {},
   "outputs": [],
   "source": [
    "bgr = cv2.cvtColor(img, cv2.COLOR_RGB2BGR)\n",
    "\n",
    "\n",
    "for loc in face_locations: #2개 이상 존재할 경우\n",
    "    ys, xs, ye, xe = loc\n",
    "    cv2.rectangle(bgr, (xs, ys), (xe, ye), (0, 0, 255), 2)\n",
    "    \n",
    "#ys, xs, ye, xe = face_locations[0]\n",
    "#cv2.rectangle(bgr, (xs, ys), (xe, ye), (0, 0, 255), 2)\n",
    "\n",
    "cv2.imshow('img', bgr)\n",
    "cv2.waitKey()\n",
    "\n",
    "cv2.destroyAllWindows()"
   ]
  },
  {
   "cell_type": "markdown",
   "metadata": {},
   "source": [
    "# 기능 2) 얼굴 랜드마크 찾기\n",
    "- 얼굴 회전 예측, 스노우 어플, 가상 메이크업 등등에 활용"
   ]
  },
  {
   "cell_type": "code",
   "execution_count": 5,
   "metadata": {},
   "outputs": [
    {
     "name": "stdout",
     "output_type": "stream",
     "text": [
      "2\n",
      "{'chin': [(142, 118), (145, 139), (149, 159), (155, 179), (165, 197), (179, 214), (195, 228), (213, 238), (232, 242), (248, 238), (258, 225), (267, 209), (273, 192), (276, 173), (279, 154), (280, 136), (280, 119)], 'left_eyebrow': [(171, 107), (182, 98), (197, 94), (213, 95), (227, 100)], 'right_eyebrow': [(242, 98), (251, 93), (261, 90), (272, 92), (278, 101)], 'nose_bridge': [(235, 111), (238, 121), (240, 132), (243, 143)], 'nose_tip': [(223, 155), (231, 156), (239, 158), (245, 156), (250, 153)], 'left_eye': [(188, 115), (196, 110), (205, 109), (212, 115), (205, 116), (196, 116)], 'right_eye': [(247, 114), (254, 108), (262, 107), (268, 113), (262, 114), (255, 114)], 'top_lip': [(206, 188), (216, 177), (229, 171), (237, 172), (243, 171), (251, 176), (254, 188), (250, 188), (243, 178), (237, 178), (229, 178), (210, 188)], 'bottom_lip': [(254, 188), (250, 202), (243, 209), (236, 211), (227, 210), (215, 203), (206, 188), (210, 188), (228, 200), (236, 201), (243, 199), (250, 188)]}\n"
     ]
    }
   ],
   "source": [
    "landmarks_list = face_recognition.face_landmarks(img)\n",
    "print(len(landmarks_list))\n",
    "print(landmarks_list[0])"
   ]
  },
  {
   "cell_type": "code",
   "execution_count": 6,
   "metadata": {},
   "outputs": [
    {
     "name": "stdout",
     "output_type": "stream",
     "text": [
      "dict_keys(['chin', 'left_eyebrow', 'right_eyebrow', 'nose_bridge', 'nose_tip', 'left_eye', 'right_eye', 'top_lip', 'bottom_lip'])\n"
     ]
    }
   ],
   "source": [
    "keys = landmarks_list[0].keys()\n",
    "print(keys)"
   ]
  },
  {
   "cell_type": "code",
   "execution_count": 25,
   "metadata": {},
   "outputs": [],
   "source": [
    "bgr = cv2.cvtColor(img, cv2.COLOR_RGB2BGR)\n",
    "for landmarks in landmarks_list:\n",
    "    coords = landmarks['left_eye']\n",
    "    for coord in coords:\n",
    "        cv2.circle(bgr, coord, 2, (0, 0, 255), -1)\n",
    "    \n",
    "''' 전체\n",
    "    for key in keys:\n",
    "        coords = landmarks[key]\n",
    "   \n",
    "        \n",
    "        for coord in coords:\n",
    "            cv2.circle(bgr, coord, 2, (0, 0, 255), -1)\n",
    "''' \n",
    "cv2.imshow('img', bgr)\n",
    "cv2.waitKey()\n",
    "\n",
    "cv2.destroyAllWindows()"
   ]
  },
  {
   "cell_type": "markdown",
   "metadata": {},
   "source": [
    "# 기능 3) 얼굴 인식"
   ]
  },
  {
   "cell_type": "code",
   "execution_count": 32,
   "metadata": {},
   "outputs": [
    {
     "name": "stdout",
     "output_type": "stream",
     "text": [
      "[array([-0.06424505,  0.19322902,  0.1088872 , -0.0506231 , -0.08246401,\n",
      "        0.05119946, -0.09462986, -0.07948954,  0.05588659,  0.03713829,\n",
      "        0.21666355, -0.02096505, -0.25239435,  0.05109064, -0.00991091,\n",
      "        0.12936142, -0.1153651 , -0.02424933, -0.20331416, -0.03520779,\n",
      "        0.01893043,  0.03394467,  0.10127763, -0.03805397, -0.15530878,\n",
      "       -0.23807634, -0.09304919, -0.11268589, -0.03202183, -0.10038414,\n",
      "        0.04275626, -0.06707393, -0.2193533 , -0.05416822, -0.04017587,\n",
      "       -0.04173914, -0.06520381, -0.0939182 ,  0.12583371,  0.00526795,\n",
      "       -0.14520767,  0.11638688,  0.02491041,  0.19967028,  0.30534628,\n",
      "       -0.00294384,  0.03628178, -0.09984533,  0.07559494, -0.20178917,\n",
      "        0.04092535,  0.07135598,  0.19741346,  0.09173069,  0.04911558,\n",
      "       -0.01591667,  0.07429135,  0.19660091, -0.2404013 ,  0.09227246,\n",
      "        0.03317516, -0.0445176 , -0.01856491, -0.05600955,  0.1193322 ,\n",
      "        0.15916067, -0.06589662, -0.16382505,  0.17056587, -0.10009697,\n",
      "       -0.09552754,  0.07771584, -0.13741048, -0.18831599, -0.32916147,\n",
      "       -0.01976611,  0.27595764,  0.07837034, -0.29484499, -0.06748097,\n",
      "       -0.04517382, -0.0209409 , -0.05248802,  0.03859843, -0.06167708,\n",
      "       -0.13091226, -0.04926434,  0.01735994,  0.28236935, -0.12156466,\n",
      "       -0.0339855 ,  0.27019581,  0.03893552, -0.12571229,  0.02261376,\n",
      "        0.09823266, -0.07237739, -0.02603125, -0.11774901, -0.02045917,\n",
      "       -0.02290232, -0.11984969, -0.07195799,  0.09408672, -0.21164209,\n",
      "        0.1821629 , -0.01208074, -0.0431191 , -0.02444808, -0.05973445,\n",
      "       -0.03774589, -0.00526907,  0.25982115, -0.1911315 ,  0.2082897 ,\n",
      "        0.23244561, -0.03481595,  0.01306696, -0.00539362,  0.09239389,\n",
      "       -0.02232447,  0.07947516, -0.15948762, -0.12312451,  0.03592091,\n",
      "       -0.04396036, -0.01403664,  0.08052533])]\n"
     ]
    }
   ],
   "source": [
    "known_img = face_recognition.load_image_file('biden.jpg') #바이든을 찾을 예정\n",
    "unknown_img = face_recognition.load_image_file('candidates.jpg')\n",
    "\n",
    "biden_encoding = face_recognition.face_encodings(known_img)\n",
    "unknown_encoding = face_recognition.face_encodings(unknown_img)\n",
    "#print(type(biden_encoding))\n",
    "print(biden_encoding)"
   ]
  },
  {
   "cell_type": "code",
   "execution_count": 27,
   "metadata": {},
   "outputs": [],
   "source": [
    "# list -> numpy 타입 변경하여 compare_faces() 함수에 전달\n",
    "biden_encoding_np = np.array(biden_encoding)\n",
    "unknown_encoding_np = np.array(unknown_encoding)\n",
    "\n",
    "results = face_recognition.compare_faces(biden_encoding_np, unknown_encoding_np) #1사람 코딩 결과, 2사람 결과(candidate image)"
   ]
  },
  {
   "cell_type": "code",
   "execution_count": 28,
   "metadata": {},
   "outputs": [
    {
     "data": {
      "text/plain": [
       "[False, True]"
      ]
     },
     "execution_count": 28,
     "metadata": {},
     "output_type": "execute_result"
    }
   ],
   "source": [
    "results #2번째사람이 1번째와 일치"
   ]
  },
  {
   "cell_type": "code",
   "execution_count": 29,
   "metadata": {},
   "outputs": [],
   "source": [
    "bgr = cv2.cvtColor(unknown_img, cv2.COLOR_RGB2BGR)\n",
    "\n",
    "box_color = (0, 0, 255)\n",
    "for loc, result in zip(face_locations, results): #zip: 2개의 리스트에서 동시에 가져오고싶을 때\n",
    "    ys, xs, ye, xe = loc\n",
    "    \n",
    "    # result\n",
    "    if result == True:\n",
    "        box_color = (0, 255, 0)\n",
    "        \n",
    "    cv2.rectangle(bgr, (xs, ys), (xe, ye), box_color, 2)\n",
    "\n",
    "cv2.imshow('img', bgr)\n",
    "cv2.waitKey()\n",
    "\n",
    "cv2.destroyAllWindows()"
   ]
  },
  {
   "cell_type": "markdown",
   "metadata": {},
   "source": [
    "### * 참고 예제\n",
    "https://github.com/ageitgey/face_recognition/blob/master/examples/facerec_from_webcam_faster.py"
   ]
  }
 ],
 "metadata": {
  "kernelspec": {
   "display_name": "pr",
   "language": "python",
   "name": "pr"
  },
  "language_info": {
   "codemirror_mode": {
    "name": "ipython",
    "version": 3
   },
   "file_extension": ".py",
   "mimetype": "text/x-python",
   "name": "python",
   "nbconvert_exporter": "python",
   "pygments_lexer": "ipython3",
   "version": "3.8.0"
  }
 },
 "nbformat": 4,
 "nbformat_minor": 4
}