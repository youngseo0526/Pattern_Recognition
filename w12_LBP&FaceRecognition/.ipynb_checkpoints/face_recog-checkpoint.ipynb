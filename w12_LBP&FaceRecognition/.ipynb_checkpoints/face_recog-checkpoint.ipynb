{
 "cells": [
  {
   "cell_type": "markdown",
   "metadata": {},
   "source": [
    "# 모듈 import 및 이미지 불러오기"
   ]
  },
  {
   "cell_type": "code",
   "execution_count": 13,
   "metadata": {},
   "outputs": [
    {
     "ename": "ImportError",
     "evalue": "No module named face_recognition",
     "output_type": "error",
     "traceback": [
      "\u001b[1;31m---------------------------------------------------------------------------\u001b[0m",
      "\u001b[1;31mImportError\u001b[0m                               Traceback (most recent call last)",
      "\u001b[1;32m<ipython-input-13-064e9c4686eb>\u001b[0m in \u001b[0;36m<module>\u001b[1;34m()\u001b[0m\n\u001b[0;32m      3\u001b[0m \u001b[0mpip\u001b[0m \u001b[0minstall\u001b[0m \u001b[0mface_recognition\u001b[0m  \u001b[1;31m# 얼굴 인식 기능 관련 라이브러리\u001b[0m\u001b[1;33m\u001b[0m\u001b[0m\n\u001b[0;32m      4\u001b[0m \"\"\"\n\u001b[1;32m----> 5\u001b[1;33m \u001b[1;32mimport\u001b[0m \u001b[0mface_recognition\u001b[0m\u001b[1;33m\u001b[0m\u001b[0m\n\u001b[0m\u001b[0;32m      6\u001b[0m \u001b[1;32mimport\u001b[0m \u001b[0mcv2\u001b[0m\u001b[1;33m\u001b[0m\u001b[0m\n\u001b[0;32m      7\u001b[0m \u001b[1;32mimport\u001b[0m \u001b[0mnumpy\u001b[0m \u001b[1;32mas\u001b[0m \u001b[0mnp\u001b[0m\u001b[1;33m\u001b[0m\u001b[0m\n",
      "\u001b[1;31mImportError\u001b[0m: No module named face_recognition"
     ]
    }
   ],
   "source": [
    "\"\"\"\n",
    "pip install cmake  # 크로스 플랫폼 빌드 툴 (face_recognition 설치를 위해 필요)\n",
    "pip install face_recognition  # 얼굴 인식 기능 관련 라이브러리\n",
    "\"\"\"\n",
    "import face_recognition\n",
    "import cv2\n",
    "import numpy as np"
   ]
  },
  {
   "cell_type": "code",
   "execution_count": 11,
   "metadata": {},
   "outputs": [
    {
     "name": "stderr",
     "output_type": "stream",
     "text": [
      "ERROR: Could not find a version that satisfies the requirement dblib (from versions: none)\n",
      "ERROR: No matching distribution found for dblib\n"
     ]
    }
   ],
   "source": [
    "!pip3 install dblib"
   ]
  },
  {
   "cell_type": "code",
   "execution_count": null,
   "metadata": {},
   "outputs": [],
   "source": [
    "img = face_recognition.load_image_file('candidates.jpg')\n",
    "bgr = cv2.cvtColor(img, cv2.COLOR_RGB2BGR)\n",
    "cv2.imshow('img', bgr)\n",
    "cv2.waitKey()\n",
    "\n",
    "cv2.destroyAllWindows()"
   ]
  },
  {
   "cell_type": "markdown",
   "metadata": {},
   "source": [
    "# 기능 1) 얼굴 위치 찾기"
   ]
  },
  {
   "cell_type": "code",
   "execution_count": null,
   "metadata": {},
   "outputs": [],
   "source": [
    "face_locations = face_recognition.face_locations(img)\n",
    "print(face_locations)  # (ys, xs, ye, xe) (두점의 start, end 좌표료 위치 구하기)"
   ]
  },
  {
   "cell_type": "code",
   "execution_count": null,
   "metadata": {},
   "outputs": [],
   "source": [
    "bgr = cv2.cvtColor(img, cv2.COLOR_RGB2BGR)\n",
    "\n",
    "\n",
    "# for loc in face_locations:\n",
    "#     ys, xs, ye, xe = loc\n",
    "\n",
    "ys, xs, ye, xe = face_locations[0]\n",
    "cv2.rectangle(bgr, (xs, ys), (xe, ye), (0, 0, 255), 2)  # BGR\n",
    "\n",
    "cv2.imshow('img', bgr)\n",
    "cv2.waitKey()\n",
    "\n",
    "cv2.destroyAllWindows()"
   ]
  },
  {
   "cell_type": "markdown",
   "metadata": {},
   "source": [
    "# 기능 2) 얼굴 랜드마크 찾기\n",
    "- 얼굴 회전 예측, 스노우 어플, 가상 메이크업 등등에 활용"
   ]
  },
  {
   "cell_type": "code",
   "execution_count": null,
   "metadata": {},
   "outputs": [],
   "source": [
    "landmarks_list = face_recognition.face_landmarks(img)\n",
    "print(len(landmarks_list))\n",
    "print(landmarks_list[0])  # 0: 트럼프, 1: 바이든"
   ]
  },
  {
   "cell_type": "code",
   "execution_count": null,
   "metadata": {},
   "outputs": [],
   "source": [
    "keys = landmarks_list[0].keys()\n",
    "print(keys)"
   ]
  },
  {
   "cell_type": "code",
   "execution_count": null,
   "metadata": {},
   "outputs": [],
   "source": [
    "bgr = cv2.cvtColor(img, cv2.COLOR_RGB2BGR)\n",
    "for landmarks in landmarks_list:\n",
    "    # 모든 랜드마크 출력\n",
    "#     for key in keys:\n",
    "#         coords = landmarks[key]\n",
    "    coords = landmarks['left_eye']\n",
    "        \n",
    "    for coord in coords:\n",
    "        cv2.circle(bgr, coord, 2, (0, 0, 255), -1)\n",
    "    \n",
    "cv2.imshow('img', bgr)\n",
    "cv2.waitKey()\n",
    "\n",
    "cv2.destroyAllWindows()"
   ]
  },
  {
   "cell_type": "markdown",
   "metadata": {},
   "source": [
    "# 기능 3) 얼굴 인식"
   ]
  },
  {
   "cell_type": "code",
   "execution_count": null,
   "metadata": {},
   "outputs": [],
   "source": [
    "known_img = face_recognition.load_image_file('biden.jpg')\n",
    "unknown_img = face_recognition.load_image_file('candidates.jpg')\n",
    "\n",
    "biden_encoding = face_recognition.face_encodings(known_img)\n",
    "unknown_encoding = face_recognition.face_encodings(unknown_img)\n",
    "print(type(biden_encoding))"
   ]
  },
  {
   "cell_type": "code",
   "execution_count": null,
   "metadata": {},
   "outputs": [],
   "source": [
    "# list -> numpy 타입 변경하여 compare_faces() 함수에 전달\n",
    "biden_encoding_np = np.array(biden_encoding)\n",
    "unknown_encoding_np = np.array(unknown_encoding)\n",
    "\n",
    "results = face_recognition.compare_faces(biden_encoding_np, unknown_encoding_np)"
   ]
  },
  {
   "cell_type": "code",
   "execution_count": null,
   "metadata": {},
   "outputs": [],
   "source": [
    "results"
   ]
  },
  {
   "cell_type": "code",
   "execution_count": null,
   "metadata": {},
   "outputs": [],
   "source": [
    "bgr = cv2.cvtColor(unknown_img, cv2.COLOR_RGB2BGR)\n",
    "\n",
    "box_color = (0, 0, 255)\n",
    "for loc, result in zip(face_locations, results):\n",
    "    ys, xs, ye, xe = loc\n",
    "    \n",
    "    # result\n",
    "    if result == True:\n",
    "        box_color = (0, 255, 0)\n",
    "        \n",
    "    cv2.rectangle(bgr, (xs, ys), (xe, ye), box_color, 2)\n",
    "\n",
    "cv2.imshow('img', bgr)\n",
    "cv2.waitKey()\n",
    "\n",
    "cv2.destroyAllWindows()"
   ]
  },
  {
   "cell_type": "markdown",
   "metadata": {},
   "source": [
    "### * 참고 예제\n",
    "https://github.com/ageitgey/face_recognition/blob/master/examples/facerec_from_webcam_faster.py"
   ]
  }
 ],
 "metadata": {
  "kernelspec": {
   "display_name": "Python 2",
   "language": "python",
   "name": "python2"
  },
  "language_info": {
   "codemirror_mode": {
    "name": "ipython",
    "version": 2
   },
   "file_extension": ".py",
   "mimetype": "text/x-python",
   "name": "python",
   "nbconvert_exporter": "python",
   "pygments_lexer": "ipython2",
   "version": "2.7.16"
  }
 },
 "nbformat": 4,
 "nbformat_minor": 4
}
